{
 "metadata": {
  "name": "BlueBook"
 },
 "nbformat": 3,
 "nbformat_minor": 0,
 "worksheets": [
  {
   "cells": [
    {
     "cell_type": "code",
     "collapsed": false,
     "input": [
      "import pandas as pd\n",
      "import numpy as np\n",
      "import statsmodels.api as sm\n",
      "from scipy import *\n",
      "from pandas import Series,DataFrame\n",
      "from patsy import dmatrices\n",
      "plt.figure(figsize=(12,8))\n",
      "results={}"
     ],
     "language": "python",
     "metadata": {},
     "outputs": [],
     "prompt_number": 34
    },
    {
     "cell_type": "code",
     "collapsed": false,
     "input": [
      "# Sets our path\n",
      "#cd \"C:\\\\Users\\\\Andrew\\\\Documents\\\\Kaggle\\\\Blue Book For Bulldozers/Dups/BlueBook git/\""
     ],
     "language": "python",
     "metadata": {},
     "outputs": [],
     "prompt_number": 35
    },
    {
     "cell_type": "code",
     "collapsed": false,
     "input": [
      "import sys\n",
      "sys.path.append('C:\\Users\\Andrew\\Documents\\Kaggle\\Kaggel Aux')\n",
      "import kaggelaux as agc"
     ],
     "language": "python",
     "metadata": {},
     "outputs": [],
     "prompt_number": 36
    },
    {
     "cell_type": "code",
     "collapsed": false,
     "input": [
      "df=pd.read_csv(\"Train.csv\") # Import Data\n",
      "df=df.ix[:,'SalesID':'ProductGroupDesc'] # Remove extraneous Features"
     ],
     "language": "python",
     "metadata": {},
     "outputs": [],
     "prompt_number": 37
    },
    {
     "cell_type": "heading",
     "level": 1,
     "metadata": {},
     "source": [
      "Data Quality? What are we up against?"
     ]
    },
    {
     "cell_type": "markdown",
     "metadata": {},
     "source": [
      "Like most real world data, there were many inaccruaceys and occurances of malformed data in the dataset provided by FastIron. \n",
      "<br />\n",
      "<br />\n",
      "**_Some of the Highlights inlcude:_**\n",
      "<ul>\n",
      "    <li>Many Bulldozers were reported as being manufactured in 1000 A.D.</li>\n",
      "    <li> Many Bulldozers had multiple manufacturing dates.</li>\n",
      "    <li> Machine ID, that was suppsoed to track an induvidual machine over its lifetime, was assigned to many machines.</li>\n",
      "    <li> Auctioneer ID was later revealed as an aggregate of of binned auction houses created by FastIorn, instead of indivudial auction houses</li>\n",
      "</ul>\n",
      "<br />\n",
      "<br />\n",
      "To compensate for these errors FastIron released an appendix to correct the data, though many belived the appendix had many of the same problems.\n",
      "These issues are compensated for in below."
     ]
    },
    {
     "cell_type": "markdown",
     "metadata": {},
     "source": [
      "#Auxilary Data:\n",
      "In Addition to the information provided by FastIorn, I included serveral features to account for seasonality, inflation, and the changing demand of heavy machinary. \n",
      "<br />\n",
      "<br />\n",
      "**Those Features are:**\n",
      "<br />\n",
      "\n",
      "<ul>\n",
      " <li>GDP -- FRED </li>\n",
      " <li>US Inflation -- FRED</li> \n",
      " <li>US Heavy Idustrial Production Index - FRED</li>\n",
      " <li>Catapiler's adjusted closing price -- Yahoo Finance</li>\n",
      "</ul>\n",
      "<br />\n",
      "***All added features were lagged 90 days so that they would be availaible at the auction time***\n",
      "<br />\n",
      "<br />\n",
      "Below shows process of lagging and mergeing the new data as well as the new Machine Appendix to fix data quality issues."
     ]
    },
    {
     "cell_type": "code",
     "collapsed": false,
     "input": [
      "# Read in additional Data\n",
      "machine_appendix = pd.read_csv('Machine_Appendix.csv')\n",
      "GDP = pd.read_csv('GDP.csv', names=['DATE','GDP'], header=0)\n",
      "inflation = pd.read_csv('CPIAUCSL.csv',names=['DATE','Infation_Index'], header=0)\n",
      "Industrial_production = pd.read_csv('INDPRO_vb.csv',names=['DATE','Industrial_production_index'], header=0)\n",
      "cat = pd.read_csv('cat_data.csv',names=['Date','cat_open','cat_high','cat_low','cat_close','cat_vol','cat_adj_close'], header=0)"
     ],
     "language": "python",
     "metadata": {},
     "outputs": [],
     "prompt_number": 38
    },
    {
     "cell_type": "code",
     "collapsed": false,
     "input": [
      "# Prepare data for merge and comparison\n",
      "# New data\n",
      "GDP.DATE = GDP.DATE.apply(lambda x: datetime.datetime.strptime(x, \"%Y-%m-%d\")) # Coverts string dates into datetime objects\n",
      "inflation.DATE = inflation.DATE.apply(lambda x: datetime.datetime.strptime(x, \"%Y-%m-%d\"))\n",
      "Industrial_production.DATE = Industrial_production.DATE.apply(lambda x: datetime.datetime.strptime(x, \"%Y-%m-%d\"))\n",
      "cat.Date = cat.Date.apply(lambda x: datetime.datetime.strptime(x, \"%m/%d/%Y\"))\n",
      "# Our original data\n",
      "df.saledate = df.saledate.apply(lambda x: datetime.datetime.strptime(str(x), '%m/%d/%Y %H:%M')) "
     ],
     "language": "python",
     "metadata": {},
     "outputs": [],
     "prompt_number": 39
    },
    {
     "cell_type": "code",
     "collapsed": false,
     "input": [
      "# Merge data on the machine appendix to correct for data quality . \n",
      "df = pd.merge(df, machine_appendix, left_on='MachineID', right_on='MachineID', how='right', suffixes=('_orginal','_machine_appendix'))"
     ],
     "language": "python",
     "metadata": {},
     "outputs": [],
     "prompt_number": 40
    },
    {
     "cell_type": "code",
     "collapsed": false,
     "input": [
      "# Fill data forward to make a complete calender; ie. not just trading/business days as auctions happend 24/7.\n",
      "\n",
      "# Prepare data for forward filling\n",
      "GDP = GDP.set_index('DATE')\n",
      "inflation = inflation.set_index('DATE')\n",
      "Industrial_production = Industrial_production.set_index('DATE')\n",
      "cat = cat.set_index('Date')\n",
      "\n",
      "# Fill data forward\n",
      "GDP = GDP.resample('D', fill_method='ffill')\n",
      "inflation = inflation.resample('D', fill_method='ffill')\n",
      "Industrial_production = Industrial_production.resample('D', fill_method='ffill')\n",
      "cat = cat.resample('D', fill_method='ffill')"
     ],
     "language": "python",
     "metadata": {},
     "outputs": [],
     "prompt_number": 41
    },
    {
     "cell_type": "code",
     "collapsed": false,
     "input": [
      "# Lag our new variales and then merge them to our dataset\n",
      "df = pd.merge(GDP.shift(90, freq='D'), df, left_index=True, right_on='saledate', how='right')\n",
      "df = pd.merge(inflation.shift(90, freq='D'), df, left_index=True, right_on='saledate', how='right')\n",
      "df = pd.merge(Industrial_production.shift(90, freq='D'), df, left_index=True, right_on='saledate', how='right')\n",
      "df = pd.merge(cat.shift(90, freq='D'), df, left_index=True, right_on='saledate', how='right')\n"
     ],
     "language": "python",
     "metadata": {},
     "outputs": [],
     "prompt_number": 42
    },
    {
     "cell_type": "code",
     "collapsed": false,
     "input": [
      "#Lets take a look at our new DataFrame\n",
      "df"
     ],
     "language": "python",
     "metadata": {},
     "outputs": [
      {
       "html": [
        "<pre>\n",
        "&ltclass 'pandas.core.frame.DataFrame'&gt\n",
        "Int64Index: 418691 entries, 0 to 418690\n",
        "Data columns (total 44 columns):\n",
        "cat_open                               401125  non-null values\n",
        "cat_high                               401125  non-null values\n",
        "cat_low                                401125  non-null values\n",
        "cat_close                              401125  non-null values\n",
        "cat_vol                                401125  non-null values\n",
        "cat_adj_close                          401125  non-null values\n",
        "Industrial_production_index            401125  non-null values\n",
        "Infation_Index                         401125  non-null values\n",
        "GDP                                    401125  non-null values\n",
        "SalesID                                401125  non-null values\n",
        "SalePrice                              401125  non-null values\n",
        "MachineID                              418691  non-null values\n",
        "ModelID_orginal                        401125  non-null values\n",
        "datasource                             401125  non-null values\n",
        "auctioneerID                           380989  non-null values\n",
        "YearMade                               401125  non-null values\n",
        "MachineHoursCurrentMeter               142765  non-null values\n",
        "UsageBand                              69639  non-null values\n",
        "saledate                               401125  non-null values\n",
        "fiModelDesc_orginal                    401125  non-null values\n",
        "fiBaseModel_orginal                    401125  non-null values\n",
        "fiSecondaryDesc_orginal                263934  non-null values\n",
        "fiModelSeries_orginal                  56908  non-null values\n",
        "fiModelDescriptor_orginal              71919  non-null values\n",
        "ProductSize                            190350  non-null values\n",
        "fiProductClassDesc_orginal             401125  non-null values\n",
        "state                                  401125  non-null values\n",
        "ProductGroup_orginal                   401125  non-null values\n",
        "ProductGroupDesc_orginal               401125  non-null values\n",
        "ModelID_machine_appendix               418691  non-null values\n",
        "fiModelDesc_machine_appendix           418691  non-null values\n",
        "fiBaseModel_machine_appendix           418691  non-null values\n",
        "fiSecondaryDesc_machine_appendix       277506  non-null values\n",
        "fiModelSeries_machine_appendix         60164  non-null values\n",
        "fiModelDescriptor_machine_appendix     78268  non-null values\n",
        "fiProductClassDesc_machine_appendix    418691  non-null values\n",
        "ProductGroup_machine_appendix          418691  non-null values\n",
        "ProductGroupDesc_machine_appendix      418691  non-null values\n",
        "MfgYear                                418432  non-null values\n",
        "fiManufacturerID                       418691  non-null values\n",
        "fiManufacturerDesc                     418691  non-null values\n",
        "PrimarySizeBasis                       413365  non-null values\n",
        "PrimaryLower                           413365  non-null values\n",
        "PrimaryUpper                           413365  non-null values\n",
        "dtypes: datetime64[ns](1), float64(20), int64(2), object(21)\n",
        "</pre>"
       ],
       "output_type": "pyout",
       "prompt_number": 43,
       "text": [
        "<class 'pandas.core.frame.DataFrame'>\n",
        "Int64Index: 418691 entries, 0 to 418690\n",
        "Data columns (total 44 columns):\n",
        "cat_open                               401125  non-null values\n",
        "cat_high                               401125  non-null values\n",
        "cat_low                                401125  non-null values\n",
        "cat_close                              401125  non-null values\n",
        "cat_vol                                401125  non-null values\n",
        "cat_adj_close                          401125  non-null values\n",
        "Industrial_production_index            401125  non-null values\n",
        "Infation_Index                         401125  non-null values\n",
        "GDP                                    401125  non-null values\n",
        "SalesID                                401125  non-null values\n",
        "SalePrice                              401125  non-null values\n",
        "MachineID                              418691  non-null values\n",
        "ModelID_orginal                        401125  non-null values\n",
        "datasource                             401125  non-null values\n",
        "auctioneerID                           380989  non-null values\n",
        "YearMade                               401125  non-null values\n",
        "MachineHoursCurrentMeter               142765  non-null values\n",
        "UsageBand                              69639  non-null values\n",
        "saledate                               401125  non-null values\n",
        "fiModelDesc_orginal                    401125  non-null values\n",
        "fiBaseModel_orginal                    401125  non-null values\n",
        "fiSecondaryDesc_orginal                263934  non-null values\n",
        "fiModelSeries_orginal                  56908  non-null values\n",
        "fiModelDescriptor_orginal              71919  non-null values\n",
        "ProductSize                            190350  non-null values\n",
        "fiProductClassDesc_orginal             401125  non-null values\n",
        "state                                  401125  non-null values\n",
        "ProductGroup_orginal                   401125  non-null values\n",
        "ProductGroupDesc_orginal               401125  non-null values\n",
        "ModelID_machine_appendix               418691  non-null values\n",
        "fiModelDesc_machine_appendix           418691  non-null values\n",
        "fiBaseModel_machine_appendix           418691  non-null values\n",
        "fiSecondaryDesc_machine_appendix       277506  non-null values\n",
        "fiModelSeries_machine_appendix         60164  non-null values\n",
        "fiModelDescriptor_machine_appendix     78268  non-null values\n",
        "fiProductClassDesc_machine_appendix    418691  non-null values\n",
        "ProductGroup_machine_appendix          418691  non-null values\n",
        "ProductGroupDesc_machine_appendix      418691  non-null values\n",
        "MfgYear                                418432  non-null values\n",
        "fiManufacturerID                       418691  non-null values\n",
        "fiManufacturerDesc                     418691  non-null values\n",
        "PrimarySizeBasis                       413365  non-null values\n",
        "PrimaryLower                           413365  non-null values\n",
        "PrimaryUpper                           413365  non-null values\n",
        "dtypes: datetime64[ns](1), float64(20), int64(2), object(21)"
       ]
      }
     ],
     "prompt_number": 43
    },
    {
     "cell_type": "code",
     "collapsed": false,
     "input": [
      "# Below are several helpful functions that we will use to clean the dozer manufacturing date data and prepare it for our analysis. \n",
      "\n",
      "def dozeryearclean(s):\n",
      "    if s == 1000:\n",
      "        s = np.nan\n",
      "    return s\n",
      "\n",
      "def MfgClean(s):\n",
      "    if isinstance(s, str):\n",
      "        s = np.nan\n",
      "    return s "
     ],
     "language": "python",
     "metadata": {},
     "outputs": [],
     "prompt_number": 44
    },
    {
     "cell_type": "code",
     "collapsed": false,
     "input": [
      "# Clean Data to prepare for analysis\n",
      "df.YearMade = df.YearMade.apply(dozeryearclean)\n",
      "df.MfgYear = df.MfgYear.apply(MfgClean)\n",
      "df['Quater'] = df.saledate.apply(agc.quater_maker)# adds a column for that specifices the quater each machine was sold in.\n",
      "\n",
      "df = df.dropna() # Drops Null Values from the dataframe."
     ],
     "language": "python",
     "metadata": {},
     "outputs": [],
     "prompt_number": 45
    },
    {
     "cell_type": "heading",
     "level": 1,
     "metadata": {},
     "source": [
      "Visual Summary of the Data:"
     ]
    },
    {
     "cell_type": "code",
     "collapsed": false,
     "input": [
      "fig = plt.figure(figsize=(16,6))\n",
      "df['Log_SalePrice'] = df.SalePrice.apply(lambda x: log(x)) # transforms sales price\n",
      "a=.65 # sets the alpha level\n",
      "\n",
      "ax1 = plt.subplot2grid((2, 3), (0, 1))\n",
      "df.SalePrice.plot(kind='kde')\n",
      "title(\"Distribution of Sales\"); legend(loc='best')\n",
      "\n",
      "ax2 = plt.subplot2grid((2, 3), (0, 2), colspan=2)\n",
      "df.Log_SalePrice.plot(kind='kde')\n",
      "title(\"Logged Distribution of Sales\"); legend(loc='best')\n",
      "\n",
      "ax3 = plt.subplot2grid((2, 3), (0, 0), colspan=1, rowspan=2)\n",
      "df.YearMade.value_counts().plot(kind='barh', alpha=a)\n",
      "title(\"When were these bulldozers made?\")\n",
      "plt.xlabel('Count')\n",
      "plt.ylabel('Year')\n",
      "# you could show a distrubution of how old they are\n",
      "\n",
      "ax4 = plt.subplot2grid((2, 3), (1, 2), rowspan=2)\n",
      "df.Quater.value_counts().plot(kind='bar',alpha= a)\n",
      "title(\"Distribution of Bulldozer Sales by Quater\")\n",
      "\n",
      "#add one for prices over time. to show inlation # show frequency of sales per year\n",
      "#ax4 = plt.subplot2grid((2, 3), (1, 2))\n",
      "#dfs=df.sort('saledate')\n",
      "#dfs.set_index('saledate')\n",
      "#plot_date(dfs.SalePrice,df.saledate)\n",
      "#title(\"Sale Price Over Time:\")\n",
      "#plt.xlabel('SalMachineID')\n",
      "#plt.ylabel('Price ($)')\n",
      "#plt.xticks(np.arange(0,5))\n",
      "#plt.yticks(np.arange(0,5))\n",
      "\n",
      "ax5 = plt.subplot2grid((2, 3), (1, 1))\n",
      "df.UsageBand.value_counts().plot(kind='bar', alpha=a)\n",
      "title(\"Distribution of Hours the Dozers were used. \")\n",
      "\n",
      "\n",
      "plt.tight_layout()"
     ],
     "language": "python",
     "metadata": {},
     "outputs": [
      {
       "output_type": "display_data",
       "png": "[encoded data removed]"
      }
     ],
     "prompt_number": 46
    },
    {
     "cell_type": "heading",
     "level": 1,
     "metadata": {},
     "source": [
      "My Regressions:"
     ]
    },
    {
     "cell_type": "heading",
     "level": 4,
     "metadata": {},
     "source": [
      "Regression 1:"
     ]
    },
    {
     "cell_type": "markdown",
     "metadata": {},
     "source": [
      "show a typicall competitor reg  with  GDP without my adds. show reg with my adds. show how you zeroed in to things that made sense to explain the dozers and how r2 went up. expalin the seasonalitly/ inflation in the dataset show how you adj. then show output to kaggel. Explain why everything is lagged 90 days"
     ]
    },
    {
     "cell_type": "code",
     "collapsed": false,
     "input": [
      "df.set_index(\"SalesID\")\n",
      "# So our regression Data frames objs keep thier salesid"
     ],
     "language": "python",
     "metadata": {},
     "outputs": [
      {
       "html": [
        "<pre>\n",
        "&ltclass 'pandas.core.frame.DataFrame'&gt\n",
        "Index: 1368 entries, 4359500.0 to 6304507.0\n",
        "Data columns (total 45 columns):\n",
        "cat_open                               1368  non-null values\n",
        "cat_high                               1368  non-null values\n",
        "cat_low                                1368  non-null values\n",
        "cat_close                              1368  non-null values\n",
        "cat_vol                                1368  non-null values\n",
        "cat_adj_close                          1368  non-null values\n",
        "Industrial_production_index            1368  non-null values\n",
        "Infation_Index                         1368  non-null values\n",
        "GDP                                    1368  non-null values\n",
        "SalePrice                              1368  non-null values\n",
        "MachineID                              1368  non-null values\n",
        "ModelID_orginal                        1368  non-null values\n",
        "datasource                             1368  non-null values\n",
        "auctioneerID                           1368  non-null values\n",
        "YearMade                               1368  non-null values\n",
        "MachineHoursCurrentMeter               1368  non-null values\n",
        "UsageBand                              1368  non-null values\n",
        "saledate                               1368  non-null values\n",
        "fiModelDesc_orginal                    1368  non-null values\n",
        "fiBaseModel_orginal                    1368  non-null values\n",
        "fiSecondaryDesc_orginal                1368  non-null values\n",
        "fiModelSeries_orginal                  1368  non-null values\n",
        "fiModelDescriptor_orginal              1368  non-null values\n",
        "ProductSize                            1368  non-null values\n",
        "fiProductClassDesc_orginal             1368  non-null values\n",
        "state                                  1368  non-null values\n",
        "ProductGroup_orginal                   1368  non-null values\n",
        "ProductGroupDesc_orginal               1368  non-null values\n",
        "ModelID_machine_appendix               1368  non-null values\n",
        "fiModelDesc_machine_appendix           1368  non-null values\n",
        "fiBaseModel_machine_appendix           1368  non-null values\n",
        "fiSecondaryDesc_machine_appendix       1368  non-null values\n",
        "fiModelSeries_machine_appendix         1368  non-null values\n",
        "fiModelDescriptor_machine_appendix     1368  non-null values\n",
        "fiProductClassDesc_machine_appendix    1368  non-null values\n",
        "ProductGroup_machine_appendix          1368  non-null values\n",
        "ProductGroupDesc_machine_appendix      1368  non-null values\n",
        "MfgYear                                1368  non-null values\n",
        "fiManufacturerID                       1368  non-null values\n",
        "fiManufacturerDesc                     1368  non-null values\n",
        "PrimarySizeBasis                       1368  non-null values\n",
        "PrimaryLower                           1368  non-null values\n",
        "PrimaryUpper                           1368  non-null values\n",
        "Quater                                 1368  non-null values\n",
        "Log_SalePrice                          1368  non-null values\n",
        "dtypes: datetime64[ns](1), float64(20), int64(2), object(22)\n",
        "</pre>"
       ],
       "output_type": "pyout",
       "prompt_number": 47,
       "text": [
        "<class 'pandas.core.frame.DataFrame'>\n",
        "Index: 1368 entries, 4359500.0 to 6304507.0\n",
        "Data columns (total 45 columns):\n",
        "cat_open                               1368  non-null values\n",
        "cat_high                               1368  non-null values\n",
        "cat_low                                1368  non-null values\n",
        "cat_close                              1368  non-null values\n",
        "cat_vol                                1368  non-null values\n",
        "cat_adj_close                          1368  non-null values\n",
        "Industrial_production_index            1368  non-null values\n",
        "Infation_Index                         1368  non-null values\n",
        "GDP                                    1368  non-null values\n",
        "SalePrice                              1368  non-null values\n",
        "MachineID                              1368  non-null values\n",
        "ModelID_orginal                        1368  non-null values\n",
        "datasource                             1368  non-null values\n",
        "auctioneerID                           1368  non-null values\n",
        "YearMade                               1368  non-null values\n",
        "MachineHoursCurrentMeter               1368  non-null values\n",
        "UsageBand                              1368  non-null values\n",
        "saledate                               1368  non-null values\n",
        "fiModelDesc_orginal                    1368  non-null values\n",
        "fiBaseModel_orginal                    1368  non-null values\n",
        "fiSecondaryDesc_orginal                1368  non-null values\n",
        "fiModelSeries_orginal                  1368  non-null values\n",
        "fiModelDescriptor_orginal              1368  non-null values\n",
        "ProductSize                            1368  non-null values\n",
        "fiProductClassDesc_orginal             1368  non-null values\n",
        "state                                  1368  non-null values\n",
        "ProductGroup_orginal                   1368  non-null values\n",
        "ProductGroupDesc_orginal               1368  non-null values\n",
        "ModelID_machine_appendix               1368  non-null values\n",
        "fiModelDesc_machine_appendix           1368  non-null values\n",
        "fiBaseModel_machine_appendix           1368  non-null values\n",
        "fiSecondaryDesc_machine_appendix       1368  non-null values\n",
        "fiModelSeries_machine_appendix         1368  non-null values\n",
        "fiModelDescriptor_machine_appendix     1368  non-null values\n",
        "fiProductClassDesc_machine_appendix    1368  non-null values\n",
        "ProductGroup_machine_appendix          1368  non-null values\n",
        "ProductGroupDesc_machine_appendix      1368  non-null values\n",
        "MfgYear                                1368  non-null values\n",
        "fiManufacturerID                       1368  non-null values\n",
        "fiManufacturerDesc                     1368  non-null values\n",
        "PrimarySizeBasis                       1368  non-null values\n",
        "PrimaryLower                           1368  non-null values\n",
        "PrimaryUpper                           1368  non-null values\n",
        "Quater                                 1368  non-null values\n",
        "Log_SalePrice                          1368  non-null values\n",
        "dtypes: datetime64[ns](1), float64(20), int64(2), object(22)"
       ]
      }
     ],
     "prompt_number": 47
    },
    {
     "cell_type": "code",
     "collapsed": false,
     "input": [
      "df.columns"
     ],
     "language": "python",
     "metadata": {},
     "outputs": [
      {
       "output_type": "pyout",
       "prompt_number": 48,
       "text": [
        "Index([cat_open, cat_high, cat_low, cat_close, cat_vol, cat_adj_close, Industrial_production_index, Infation_Index, GDP, SalesID, SalePrice, MachineID, ModelID_orginal, datasource, auctioneerID, YearMade, MachineHoursCurrentMeter, UsageBand, saledate, fiModelDesc_orginal, fiBaseModel_orginal, fiSecondaryDesc_orginal, fiModelSeries_orginal, fiModelDescriptor_orginal, ProductSize, fiProductClassDesc_orginal, state, ProductGroup_orginal, ProductGroupDesc_orginal, ModelID_machine_appendix, fiModelDesc_machine_appendix, fiBaseModel_machine_appendix, fiSecondaryDesc_machine_appendix, fiModelSeries_machine_appendix, fiModelDescriptor_machine_appendix, fiProductClassDesc_machine_appendix, ProductGroup_machine_appendix, ProductGroupDesc_machine_appendix, MfgYear, fiManufacturerID, fiManufacturerDesc, PrimarySizeBasis, PrimaryLower, PrimaryUpper, Quater, Log_SalePrice], dtype=object)"
       ]
      }
     ],
     "prompt_number": 48
    },
    {
     "cell_type": "code",
     "collapsed": false,
     "input": [
      "formula = 'np.log(SalePrice) ~ C(YearMade) + C(ModelID_machine_appendix) + C(Quater) + C(auctioneerID) + C(UsageBand) + GDP'"
     ],
     "language": "python",
     "metadata": {},
     "outputs": [],
     "prompt_number": "*"
    },
    {
     "cell_type": "code",
     "collapsed": false,
     "input": [
      "y, x = dmatrices(formula, data=df, return_type='dataframe')# Prepare data frame for regression\n",
      "mod = sm.OLS(y, x)   # Describe model, so it can be fitted mod = sm.GLM(y, x, family=sm.families.Gamma()) \n",
      "res1 = mod.fit()       # Fit model\n",
      "results['Typical_competitor_Regression']=[res1, formula] # save results for later\n",
      "res1.summary()   # Summarize model -- you dont have to print"
     ],
     "language": "python",
     "metadata": {},
     "outputs": [],
     "prompt_number": "*"
    },
    {
     "cell_type": "heading",
     "level": 4,
     "metadata": {},
     "source": [
      "Regression 2:"
     ]
    },
    {
     "cell_type": "code",
     "collapsed": false,
     "input": [
      "formula = 'np.log(SalePrice) ~ Infation_Index + Industrial_production_index + np.log(cat_adj_close) + C(YearMade) + C(ModelID_machine_appendix) + C(Quater) + C(auctioneerID) + C(UsageBand)'"
     ],
     "language": "python",
     "metadata": {},
     "outputs": [],
     "prompt_number": "*"
    },
    {
     "cell_type": "code",
     "collapsed": false,
     "input": [
      "y, x = dmatrices(formula, data=df, return_type='dataframe')\n",
      "mod = sm.OLS(y, x)   # Describe model, so it can be fitted C(UsageBand)\n",
      "res2 = mod.fit()     # Fit model\n",
      "results['My_final_regression']=[res2,, formula]\n",
      "res2.summary()       # Summarize model "
     ],
     "language": "python",
     "metadata": {},
     "outputs": [],
     "prompt_number": "*"
    },
    {
     "cell_type": "heading",
     "level": 4,
     "metadata": {},
     "source": [
      "Regresion 3:"
     ]
    },
    {
     "cell_type": "code",
     "collapsed": false,
     "input": [
      "df.columns"
     ],
     "language": "python",
     "metadata": {},
     "outputs": [],
     "prompt_number": "*"
    },
    {
     "cell_type": "code",
     "collapsed": false,
     "input": [
      "formula2='np.log(SalePrice) ~ fiBaseModel_machine_appendix + C(fiProductClassDesc_machine_appendix) + Infation_Index + Industrial_production_index + np.log(cat_adj_close) + C(YearMade) + C(Quater) + C(auctioneerID) + C(UsageBand)'"
     ],
     "language": "python",
     "metadata": {},
     "outputs": [],
     "prompt_number": "*"
    },
    {
     "cell_type": "code",
     "collapsed": false,
     "input": [
      "y, x = dmatrices(formula2, data= df, return_type='dataframe')\n",
      "mod = sm.OLS(y, x)    # Describe model, so it can be fitted  fredb\n",
      "res3 = mod.fit()      # Fit model\n",
      "results['My_regression_corrected_for_overfitting']=[res3, formula]\n",
      "res3.summary()        # Summarize model "
     ],
     "language": "python",
     "metadata": {},
     "outputs": [],
     "prompt_number": "*"
    },
    {
     "cell_type": "heading",
     "level": 3,
     "metadata": {},
     "source": [
      "Use Our Models to Make Predictions:"
     ]
    },
    {
     "cell_type": "code",
     "collapsed": false,
     "input": [
      "test_data = pd.read_csv(\"Test.csv\")"
     ],
     "language": "python",
     "metadata": {},
     "outputs": [],
     "prompt_number": "*"
    },
    {
     "cell_type": "code",
     "collapsed": false,
     "input": [
      "# Clean data in same way as our training data\n",
      "test_data.saledate = test_data.saledate.apply(lambda x: datetime.datetime.strptime(str(x), '%m/%d/%Y %H:%M')) "
     ],
     "language": "python",
     "metadata": {},
     "outputs": [],
     "prompt_number": "*"
    },
    {
     "cell_type": "code",
     "collapsed": false,
     "input": [
      "# Lag our new variales and then merge them to our dataset\n",
      "test_data = pd.merge(GDP.shift(90, freq='D'), test_data, left_index=True, right_on='saledate', how='right')\n",
      "test_data = pd.merge(inflation.shift(90, freq='D'), test_data, left_index=True, right_on='saledate', how='right')\n",
      "test_data = pd.merge(Industrial_production.shift(90, freq='D'), test_data, left_index=True, right_on='saledate', how='right')\n",
      "test_data = pd.merge(cat.shift(90, freq='D'), test_data, left_index=True, right_on='saledate', how='right')\n"
     ],
     "language": "python",
     "metadata": {},
     "outputs": [],
     "prompt_number": "*"
    },
    {
     "cell_type": "code",
     "collapsed": false,
     "input": [
      "test_data['Quater'] = test_data.saledate.apply(agc.quater_maker)\n",
      "test_data['SalePrice'] = 1.23\n",
      "test_data = test_data.set_index(\"SalesID\")"
     ],
     "language": "python",
     "metadata": {},
     "outputs": [],
     "prompt_number": "*"
    },
    {
     "cell_type": "markdown",
     "metadata": {},
     "source": [
      "###Out Put results and score based on Cross Validation Data and test data"
     ]
    },
    {
     "cell_type": "code",
     "collapsed": false,
     "input": [
      "# Load in solved Cross Validation dataset for scoring\n",
      "valid_solution = pd.read_csv('ValidSolution.csv')"
     ],
     "language": "python",
     "metadata": {},
     "outputs": [],
     "prompt_number": "*"
    },
    {
     "cell_type": "code",
     "collapsed": false,
     "input": [
      "# Set Variables for manipulation\n",
      "for i in results:\n",
      "  model_params = Series(results[i][0].params)\n",
      "  model_params = model_params.to_dict()\n",
      "\n",
      "  # Create reg friendly test dataframe\n",
      "  yt, xt = dmatrices(results[i][1], data= test_data, return_type='dataframe')\n",
      "\n",
      "  # Use our models to create predictions\n",
      "  error_l = 0\n",
      "  yholder = 0\n",
      "  for i in xt.index:\n",
      "      for w in xt.columns:\n",
      "          if w in model_params:\n",
      "              yholder += xt.ix[i,w]*model_params[w]\n",
      "          else:\n",
      "              error_l += 1\n",
      "      yt.ix[i] = yholder\n",
      "      yholder = 0\n",
      "  # Output Results    \n",
      "  yt['SalePrice'] = yt['np.log(SalePrice)'].apply(lambda x: exp(x))\n",
      "  yt.to_csv(i + \".csv\", na_rep=0, float_format='%.3f')\n",
      "  # Score the results \n",
      "  rmsle = agc.score_rmsle('SalePrice',yt,valid_solution)\n",
      "  rmse = agc.score_rmse('SalePrice',yt,valid_solution)\n",
      "  print \"Model {%S} scored an RMSE of : {%.4f} and an RMSLE of : {%.4f}\" (i, rmse, rmsle)"
     ],
     "language": "python",
     "metadata": {},
     "outputs": [],
     "prompt_number": "*"
    },
    {
     "cell_type": "code",
     "collapsed": false,
     "input": [],
     "language": "python",
     "metadata": {},
     "outputs": [],
     "prompt_number": "*"
    },
    {
     "cell_type": "code",
     "collapsed": false,
     "input": [
      "show my two versions perfomance, how one was compensated for over fitting\n",
      "show winners final place\n",
      "show random forest soultion and that final place"
     ],
     "language": "python",
     "metadata": {},
     "outputs": [],
     "prompt_number": "*"
    }
   ],
   "metadata": {}
  }
 ]
}