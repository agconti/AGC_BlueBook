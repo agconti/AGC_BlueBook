{
 "metadata": {
  "name": "BlueBook"
 },
 "nbformat": 3,
 "nbformat_minor": 0,
 "worksheets": [
  {
   "cells": [
    {
     "cell_type": "code",
     "collapsed": false,
     "input": [
      "import pandas as pd\n",
      "import numpy as np\n",
      "import statsmodels.api as sm\n",
      "from scipy import *\n",
      "from pandas import Series,DataFrame\n",
      "from patsy import dmatrices\n",
      "plt.figure(figsize=(12,8))\n",
      "results={}"
     ],
     "language": "python",
     "metadata": {},
     "outputs": [],
     "prompt_number": 1
    },
    {
     "cell_type": "code",
     "collapsed": false,
     "input": [
      "# Sets our path\n",
      "#cd \"C:\\\\Users\\\\Andrew\\\\Documents\\\\Kaggle\\\\Blue Book For Bulldozers/Dups/BlueBook git/\""
     ],
     "language": "python",
     "metadata": {},
     "outputs": [],
     "prompt_number": 2
    },
    {
     "cell_type": "code",
     "collapsed": false,
     "input": [
      "import sys\n",
      "sys.path.append('C:\\Users\\Andrew\\Documents\\Kaggle\\Kaggel Aux')\n",
      "import kaggelaux as agc"
     ],
     "language": "python",
     "metadata": {},
     "outputs": [],
     "prompt_number": 3
    },
    {
     "cell_type": "code",
     "collapsed": false,
     "input": [
      "df=pd.read_csv(\"Train.csv\") # Import Data\n",
      "df=df.ix[:,'MachineID':'state'] # Remove extraneous Features"
     ],
     "language": "python",
     "metadata": {},
     "outputs": [],
     "prompt_number": 4
    },
    {
     "cell_type": "heading",
     "level": 1,
     "metadata": {},
     "source": [
      "Data Quality? What are we up against?"
     ]
    },
    {
     "cell_type": "markdown",
     "metadata": {},
     "source": [
      "Like most real world data, there were many inaccruaceys and occurances of malformed data in the dataset provided by FastIron. \n",
      "<br />\n",
      "<br />\n",
      "**_Some of the Highlights inlcude:_**\n",
      "<ul>\n",
      "    <li>Many Bulldozers were reported as being manufactured in 1000 A.D.</li>\n",
      "    <li> Many Bulldozers had multiple manufacturing dates.</li>\n",
      "    <li> Machine ID, that was suppsoed to track an induvidual machine over its lifetime, was assigned to many machines.</li>\n",
      "    <li> Auctioneer ID was later revealed as an aggregate of of binned auction houses created by FastIorn, instead of indivudial auction houses</li>\n",
      "</ul>\n",
      "<br />\n",
      "<br />\n",
      "To compensate for these errors FastIron released an appendix to correct the data, though many belived the appendix had many of the same problems.\n",
      "These issues are compensated for in below."
     ]
    },
    {
     "cell_type": "markdown",
     "metadata": {},
     "source": [
      "#Auxilary Data:\n",
      "In Addition to the information provided by FastIorn, I included serveral features to account for seasonality, inflation, and the changing demand of heavy machinary. \n",
      "<br />\n",
      "<br />\n",
      "**Those Features are:**\n",
      "<br />\n",
      "\n",
      "<ul>\n",
      " <li>GDP -- FRED </li>\n",
      " <li>US Inflation -- FRED</li> \n",
      " <li>US Heavy Idustrial Production Index - FRED</li>\n",
      " <li>Catapiler's adjusted closing price -- Yahoo Finance</li>\n",
      "</ul>\n",
      "<br />\n",
      "***All added features were lagged 90 days so that they would be availaible at the auction time***\n",
      "<br />\n",
      "<br />\n",
      "Below shows process of lagging and mergeing the new data as well as the new Machine Appendix to fix data quality issues."
     ]
    },
    {
     "cell_type": "code",
     "collapsed": false,
     "input": [
      "# Read in additional Data\n",
      "machine_appendix = pd.read_csv('Machine_Appendix.csv')\n",
      "GDP = pd.read_csv('GDP.csv', names=['DATE','GDP'], header=0)\n",
      "inflation = pd.read_csv('CPIAUCSL.csv',names=['DATE','Infation_Index'], header=0)\n",
      "Industrial_production = pd.read_csv('INDPRO_vb.csv',names=['DATE','Industrial_production_index'], header=0)\n",
      "cat = pd.read_csv('cat_data.csv',names=['Date','cat_open','cat_high','cat_low','cat_close','cat_vol','cat_adj_close'], header=0)"
     ],
     "language": "python",
     "metadata": {},
     "outputs": [],
     "prompt_number": 19
    },
    {
     "cell_type": "code",
     "collapsed": false,
     "input": [
      "# Prepare data for merege and comparison\n",
      "GDP.DATE = GDP.DATE.apply(lambda x: datetime.datetime.strptime(x, \"%Y-%m-%d\"))\n",
      "inflation.DATE = inflation.DATE.apply(lambda x: datetime.datetime.strptime(x, \"%Y-%m-%d\"))\n",
      "Industrial_production.DATE = Industrial_production.DATE.apply(lambda x: datetime.datetime.strptime(x, \"%Y-%m-%d\"))\n",
      "cat.Date = cat.Date.apply(lambda x: datetime.datetime.strptime(x, \"%m/%d/%Y\"))"
     ],
     "language": "python",
     "metadata": {},
     "outputs": [],
     "prompt_number": 20
    },
    {
     "cell_type": "code",
     "collapsed": false,
     "input": [
      "# Fill data forward to make a complete calender; ie. not just trading/business days as auctions happend 24/7.\n",
      "\n",
      "# Prepare data for forward filling\n",
      "GDP = GDP.set_index('DATE')\n",
      "inflation = inflation.set_index('DATE')\n",
      "Industrial_production = Industrial_production.set_index('DATE')\n",
      "cat = cat.set_index('Date')\n",
      "\n",
      "# Fill data forward\n",
      "GDP = GDP.resample('D', fill_method='ffill')\n",
      "inflation = inflation.resample('D', fill_method='ffill')\n",
      "Industrial_production = Industrial_production.resample('D', fill_method='ffill')\n",
      "cat = cat.resample('D', fill_method='ffill')"
     ],
     "language": "python",
     "metadata": {},
     "outputs": [],
     "prompt_number": 21
    },
    {
     "cell_type": "code",
     "collapsed": false,
     "input": [
      "# Lag our new variales and then merge them to our dataset\n",
      "df = pd.merge(GDP.shift(90, freq='D'), df, left_index=True, right_on='saledate', how='right')\n",
      "df = pd.merge(inflation.shift(90, freq='D'), df, left_index=True, right_on='saledate', how='right')\n",
      "df = pd.merge(Industrial_production.shift(90, freq='D'), df, left_index=True, right_on='saledate', how='right')\n",
      "df = pd.merge(cat.shift(90, freq='D'), df, left_index=True, right_on='saledate', how='right')\n"
     ],
     "language": "python",
     "metadata": {},
     "outputs": [],
     "prompt_number": 22
    },
    {
     "cell_type": "code",
     "collapsed": false,
     "input": [
      "#Lets take a look at our new DataFrame\n",
      "df"
     ],
     "language": "python",
     "metadata": {},
     "outputs": [
      {
       "html": [
        "<pre>\n",
        "&ltclass 'pandas.core.frame.DataFrame'&gt\n",
        "Int64Index: 401125 entries, 0 to 401124\n",
        "Data columns (total 25 columns):\n",
        "cat_open                       0  non-null values\n",
        "cat_high                       0  non-null values\n",
        "cat_low                        0  non-null values\n",
        "cat_close                      0  non-null values\n",
        "cat_vol                        0  non-null values\n",
        "cat_adj_close                  0  non-null values\n",
        "Industrial_production_index    0  non-null values\n",
        "Infation_Index                 0  non-null values\n",
        "GDP                            0  non-null values\n",
        "MachineID                      401125  non-null values\n",
        "ModelID                        401125  non-null values\n",
        "datasource                     401125  non-null values\n",
        "auctioneerID                   380989  non-null values\n",
        "YearMade                       401125  non-null values\n",
        "MachineHoursCurrentMeter       142765  non-null values\n",
        "UsageBand                      69639  non-null values\n",
        "saledate                       401125  non-null values\n",
        "fiModelDesc                    401125  non-null values\n",
        "fiBaseModel                    401125  non-null values\n",
        "fiSecondaryDesc                263934  non-null values\n",
        "fiModelSeries                  56908  non-null values\n",
        "fiModelDescriptor              71919  non-null values\n",
        "ProductSize                    190350  non-null values\n",
        "fiProductClassDesc             401125  non-null values\n",
        "state                          401125  non-null values\n",
        "dtypes: float64(11), int64(4), object(10)\n",
        "</pre>"
       ],
       "output_type": "pyout",
       "prompt_number": 23,
       "text": [
        "<class 'pandas.core.frame.DataFrame'>\n",
        "Int64Index: 401125 entries, 0 to 401124\n",
        "Data columns (total 25 columns):\n",
        "cat_open                       0  non-null values\n",
        "cat_high                       0  non-null values\n",
        "cat_low                        0  non-null values\n",
        "cat_close                      0  non-null values\n",
        "cat_vol                        0  non-null values\n",
        "cat_adj_close                  0  non-null values\n",
        "Industrial_production_index    0  non-null values\n",
        "Infation_Index                 0  non-null values\n",
        "GDP                            0  non-null values\n",
        "MachineID                      401125  non-null values\n",
        "ModelID                        401125  non-null values\n",
        "datasource                     401125  non-null values\n",
        "auctioneerID                   380989  non-null values\n",
        "YearMade                       401125  non-null values\n",
        "MachineHoursCurrentMeter       142765  non-null values\n",
        "UsageBand                      69639  non-null values\n",
        "saledate                       401125  non-null values\n",
        "fiModelDesc                    401125  non-null values\n",
        "fiBaseModel                    401125  non-null values\n",
        "fiSecondaryDesc                263934  non-null values\n",
        "fiModelSeries                  56908  non-null values\n",
        "fiModelDescriptor              71919  non-null values\n",
        "ProductSize                    190350  non-null values\n",
        "fiProductClassDesc             401125  non-null values\n",
        "state                          401125  non-null values\n",
        "dtypes: float64(11), int64(4), object(10)"
       ]
      }
     ],
     "prompt_number": 23
    },
    {
     "cell_type": "code",
     "collapsed": false,
     "input": [
      "# Below are several helpful functions that we will use to clean the dozer manufacturing date data and prepare it for our analysis. \n",
      "\n",
      "def dozeryearclean(s):\n",
      "    if s == 1000:\n",
      "        s = np.nan\n",
      "    return s\n",
      "\n",
      "def MfgClean(s):\n",
      "    if isinstance(s, str):\n",
      "        s = np.nan\n",
      "    return s "
     ],
     "language": "python",
     "metadata": {},
     "outputs": [],
     "prompt_number": 24
    },
    {
     "cell_type": "code",
     "collapsed": false,
     "input": [
      "# Clean Data to prepare for analysis\n",
      "df = df.YearMade.apply(dozeryearclean)\n",
      "df = df.MfgYear.apply(MfgClean)\n",
      "df.saledate = df.saledate.apply(lambda x: datetime.datetime.strptime(str(x), '%m/%d/%Y %H:%M')) # Coverts string dates into datetime objects\n",
      "df['Quater'] = df.saledate.apply(agc.quater_maker)# adds a column for that specifices the quater each machine was sold in.\n",
      "\n",
      "df = df.dropna() # Drops Null Values from the dataframe."
     ],
     "language": "python",
     "metadata": {},
     "outputs": [
      {
       "ename": "AttributeError",
       "evalue": "'Series' object has no attribute 'MfgYear'",
       "output_type": "pyerr",
       "traceback": [
        "\u001b[1;31m---------------------------------------------------------------------------\u001b[0m\n\u001b[1;31mAttributeError\u001b[0m                            Traceback (most recent call last)",
        "\u001b[1;32m<ipython-input-25-5d564f06c823>\u001b[0m in \u001b[0;36m<module>\u001b[1;34m()\u001b[0m\n\u001b[0;32m      1\u001b[0m \u001b[1;31m# Clean Data to prepare for analysis\u001b[0m\u001b[1;33m\u001b[0m\u001b[1;33m\u001b[0m\u001b[0m\n\u001b[0;32m      2\u001b[0m \u001b[0mdf\u001b[0m \u001b[1;33m=\u001b[0m \u001b[0mdf\u001b[0m\u001b[1;33m.\u001b[0m\u001b[0mYearMade\u001b[0m\u001b[1;33m.\u001b[0m\u001b[0mapply\u001b[0m\u001b[1;33m(\u001b[0m\u001b[0mdozeryearclean\u001b[0m\u001b[1;33m)\u001b[0m\u001b[1;33m\u001b[0m\u001b[0m\n\u001b[1;32m----> 3\u001b[1;33m \u001b[0mdf\u001b[0m \u001b[1;33m=\u001b[0m \u001b[0mdf\u001b[0m\u001b[1;33m.\u001b[0m\u001b[0mMfgYear\u001b[0m\u001b[1;33m.\u001b[0m\u001b[0mapply\u001b[0m\u001b[1;33m(\u001b[0m\u001b[0mMfgClean\u001b[0m\u001b[1;33m)\u001b[0m\u001b[1;33m\u001b[0m\u001b[0m\n\u001b[0m\u001b[0;32m      4\u001b[0m \u001b[0mdf\u001b[0m\u001b[1;33m.\u001b[0m\u001b[0msaledate\u001b[0m \u001b[1;33m=\u001b[0m \u001b[0mdf\u001b[0m\u001b[1;33m.\u001b[0m\u001b[0msaledate\u001b[0m\u001b[1;33m.\u001b[0m\u001b[0mapply\u001b[0m\u001b[1;33m(\u001b[0m\u001b[1;32mlambda\u001b[0m \u001b[0mx\u001b[0m\u001b[1;33m:\u001b[0m \u001b[0mdatetime\u001b[0m\u001b[1;33m.\u001b[0m\u001b[0mdatetime\u001b[0m\u001b[1;33m.\u001b[0m\u001b[0mstrptime\u001b[0m\u001b[1;33m(\u001b[0m\u001b[0mstr\u001b[0m\u001b[1;33m(\u001b[0m\u001b[0mx\u001b[0m\u001b[1;33m)\u001b[0m\u001b[1;33m,\u001b[0m \u001b[1;34m'%m/%d/%Y %H:%M'\u001b[0m\u001b[1;33m)\u001b[0m\u001b[1;33m)\u001b[0m \u001b[1;31m# Coverts string dates into datetime objects\u001b[0m\u001b[1;33m\u001b[0m\u001b[0m\n\u001b[0;32m      5\u001b[0m \u001b[0mdf\u001b[0m\u001b[1;33m[\u001b[0m\u001b[1;34m'Quater'\u001b[0m\u001b[1;33m]\u001b[0m \u001b[1;33m=\u001b[0m \u001b[0mdf\u001b[0m\u001b[1;33m.\u001b[0m\u001b[0msaledate\u001b[0m\u001b[1;33m.\u001b[0m\u001b[0mapply\u001b[0m\u001b[1;33m(\u001b[0m\u001b[0magc\u001b[0m\u001b[1;33m.\u001b[0m\u001b[0mquater_maker\u001b[0m\u001b[1;33m)\u001b[0m\u001b[1;31m# adds a column for that specifices the quater each machine was sold in.\u001b[0m\u001b[1;33m\u001b[0m\u001b[0m\n",
        "\u001b[1;31mAttributeError\u001b[0m: 'Series' object has no attribute 'MfgYear'"
       ]
      }
     ],
     "prompt_number": 25
    },
    {
     "cell_type": "heading",
     "level": 1,
     "metadata": {},
     "source": [
      "Visual Summary of the Data:"
     ]
    },
    {
     "cell_type": "code",
     "collapsed": false,
     "input": [
      "fig = plt.figure(figsize=(16,6))\n",
      "df['Log_SalePrice'] = df.SalePrice.apply(lambda x: log(x)) # transforms sales price\n",
      "a=.65 # sets the alpha level\n",
      "\n",
      "ax1 = plt.subplot2grid((2, 3), (0, 1))\n",
      "df.SalePrice.plot(kind='kde')\n",
      "title(\"Distribution of Sales\"); legend(loc='best')\n",
      "\n",
      "ax2 = plt.subplot2grid((2, 3), (0, 2), colspan=2)\n",
      "df.Log_SalePrice.plot(kind='kde')\n",
      "title(\"Logged Distribution of Sales\"); legend(loc='best')\n",
      "\n",
      "ax3 = plt.subplot2grid((2, 3), (0, 0), colspan=1, rowspan=2)\n",
      "df.YearMade.value_counts().plot(kind='barh', alpha=a)\n",
      "title(\"When were these bulldozers made?\")\n",
      "plt.xlabel('Count')\n",
      "plt.ylabel('Year')\n",
      "# you could show a distrubution of how old they are\n",
      "\n",
      "ax4 = plt.subplot2grid((2, 3), (1, 2), rowspan=2)\n",
      "df.Quater.value_counts().plot(kind='bar',alpha= a)\n",
      "title(\"Distribution of Bulldozer Sales by Quater\")\n",
      "\n",
      "#add one for prices over time. to show inlation\n",
      "#ax4 = plt.subplot2grid((2, 3), (1, 2))\n",
      "#dfs=df.sort('saledate')\n",
      "#dfs.set_index('saledate')\n",
      "#plot_date(dfs.SalePrice,df.saledate)\n",
      "#title(\"Sale Price Over Time:\")\n",
      "#plt.xlabel('SalMachineID')\n",
      "#plt.ylabel('Price ($)')\n",
      "#plt.xticks(np.arange(0,5))\n",
      "#plt.yticks(np.arange(0,5))\n",
      "\n",
      "ax5 = plt.subplot2grid((2, 3), (1, 1))\n",
      "df.UsageBand.value_counts().plot(kind='bar', alpha=a)\n",
      "title(\"Distribution of Hours the Dozers were used. \")\n",
      "\n",
      "\n",
      "plt.tight_layout()"
     ],
     "language": "python",
     "metadata": {},
     "outputs": []
    },
    {
     "cell_type": "heading",
     "level": 1,
     "metadata": {},
     "source": [
      "My Regressions:"
     ]
    },
    {
     "cell_type": "heading",
     "level": 4,
     "metadata": {},
     "source": [
      "Regression 1:"
     ]
    },
    {
     "cell_type": "markdown",
     "metadata": {},
     "source": [
      "show a typicall competitor reg  with  GDP without my adds. show reg with my adds. show how you zeroed in to things that made sense to explain the dozers and how r2 went up. expalin the seasonalitly/ inflation in the dataset show how you adj. then show output to kaggel. Explain why everything is lagged 90 days"
     ]
    },
    {
     "cell_type": "code",
     "collapsed": false,
     "input": [
      "df.set_index(\"SalesID\")\n",
      "# So our regression Data frames objs keep thier salesid"
     ],
     "language": "python",
     "metadata": {},
     "outputs": []
    },
    {
     "cell_type": "code",
     "collapsed": false,
     "input": [
      "df.columns"
     ],
     "language": "python",
     "metadata": {},
     "outputs": []
    },
    {
     "cell_type": "code",
     "collapsed": false,
     "input": [
      "formula = 'np.log(SalePrice) ~ C(YearMade) + C(ModelID) + C(Quater) + C(auctioneerID) + C(UsageBand) + GDP'"
     ],
     "language": "python",
     "metadata": {},
     "outputs": []
    },
    {
     "cell_type": "code",
     "collapsed": false,
     "input": [
      "y, x = dmatrices(formula, data=df, return_type='dataframe')# Prepare data frame for regression\n",
      "mod = sm.OLS(y, x)   # Describe model, so it can be fitted mod = sm.GLM(y, x, family=sm.families.Gamma()) \n",
      "res1 = mod.fit()       # Fit model\n",
      "res1.summary()   # Summarize model -- you dont have to print\n",
      "results['Typical_competitor_Regression']=res1"
     ],
     "language": "python",
     "metadata": {},
     "outputs": []
    },
    {
     "cell_type": "code",
     "collapsed": false,
     "input": [
      "show merging and matcing of extra data"
     ],
     "language": "python",
     "metadata": {},
     "outputs": []
    },
    {
     "cell_type": "heading",
     "level": 4,
     "metadata": {},
     "source": [
      "Regression 2:"
     ]
    },
    {
     "cell_type": "code",
     "collapsed": false,
     "input": [
      "formula = 'np.log(SalePrice) ~ inflate90 + fredb90 + np.log(cat_price_l90) + C(YearMade) + C(ModelID) + C(Quater) + C(auctioneerID) + C(UsageBand)'"
     ],
     "language": "python",
     "metadata": {},
     "outputs": []
    },
    {
     "cell_type": "code",
     "collapsed": false,
     "input": [
      "y, x = dmatrices(formula, data=df, return_type='dataframe')\n",
      "mod = sm.OLS(y, x)   # Describe model, so it can be fitted C(UsageBand)\n",
      "res2 = mod.fit()     # Fit model\n",
      "res2.summary()       # Summarize model \n",
      "results['My_final_regression']=res2"
     ],
     "language": "python",
     "metadata": {},
     "outputs": []
    },
    {
     "cell_type": "heading",
     "level": 4,
     "metadata": {},
     "source": [
      "Regresion 3:"
     ]
    },
    {
     "cell_type": "code",
     "collapsed": false,
     "input": [
      "formula2='np.log(SalePrice) ~ fiBaseModel + C(fiProductClassDesc) + fredb + np.log(cat_price_l90) + C(YearMade) + C(Quater) + C(auctioneerID) + C(UsageBand)'"
     ],
     "language": "python",
     "metadata": {},
     "outputs": []
    },
    {
     "cell_type": "code",
     "collapsed": false,
     "input": [
      "y, x = dmatrices(formula2, data= df, return_type='dataframe')\n",
      "mod = sm.OLS(y, x)    # Describe model, so it can be fitted  fredb\n",
      "res3 = mod.fit()      # Fit model\n",
      "res3.summary()        # Summarize model \n",
      "results['My_regression_corrected_for_overfitting']=res3"
     ],
     "language": "python",
     "metadata": {},
     "outputs": []
    },
    {
     "cell_type": "heading",
     "level": 3,
     "metadata": {},
     "source": [
      "Use Our Models to Make Predictions:"
     ]
    },
    {
     "cell_type": "code",
     "collapsed": false,
     "input": [
      "#makes predictions\n",
      "df_r1=agc.regress_pred_output(pd.read_csv('Testwadds.csv'),res1,'SalePrice')\n",
      "df_r2=agc.regress_pred_output(pd.read_csv('Testwadds.csv'),res2,'SalePrice')\n",
      "df_r3=agc.regress_pred_output(pd.read_csv('Testwadds.csv'),res3,'SalePrice')\n",
      "\n",
      "#saves output\n",
      "df_r1.to_csv('typical_competitor_regression.csv')\n",
      "df_r2.to_csv('My_regression.csv')\n",
      "df_r3.to_csv('My_regression_corrected_for_overfitting.csv')"
     ],
     "language": "python",
     "metadata": {},
     "outputs": []
    },
    {
     "cell_type": "code",
     "collapsed": false,
     "input": [
      "pew+1=4/pew_pew"
     ],
     "language": "python",
     "metadata": {},
     "outputs": []
    },
    {
     "cell_type": "code",
     "collapsed": false,
     "input": [
      "test_data = pd.read_csv(\"Testwadds.csv\")"
     ],
     "language": "python",
     "metadata": {},
     "outputs": []
    },
    {
     "cell_type": "code",
     "collapsed": false,
     "input": [
      "# Clean data in same way as our training data\n",
      "test_data.saledate = test_data.saledate.apply(lambda x: datetime.datetime.strptime(str(x), '%m/%d/%Y %H:%M')) \n",
      "test_data['Quater'] = test_data.saledate.apply(ka.quater_maker)\n",
      "test_data['SalePrice'] = 1.23\n",
      "test_data = test_data.set_index(\"SalesID\")"
     ],
     "language": "python",
     "metadata": {},
     "outputs": []
    },
    {
     "cell_type": "code",
     "collapsed": false,
     "input": [
      "# Set Variables for manipulation\n",
      "for i in results:\n",
      "  model_params = Series(results[i].params)\n",
      "  model_params = model_params.to_dict()\n",
      "\n",
      "  # Create reg friendly test dataframe\n",
      "  yt, xt = dmatrices(formula2, data= test_data, return_type='dataframe')\n",
      "\n",
      "  # Use our models to create predictions\n",
      "  error_l = 0\n",
      "  yholder = 0\n",
      "  for i in xt.index:\n",
      "      for w in xt.columns:\n",
      "          if w in model_params:\n",
      "              yholder += xt.ix[i,w]*model_params[w]\n",
      "          else:\n",
      "              error_l += 1\n",
      "      yt.ix[i] = yholder\n",
      "      yholder = 0\n",
      "  # Output Results    \n",
      "  yt['SalePrice'] = yt['np.log(SalePrice)'].apply(lambda x: exp(x))\n",
      "  yt.to_csv(i + \".csv\", na_rep=0, float_format='%.3f')"
     ],
     "language": "python",
     "metadata": {},
     "outputs": []
    },
    {
     "cell_type": "code",
     "collapsed": false,
     "input": [
      "valsol=pd.read_csv('ValidSolution.csv')\n",
      "early=pd.read_csv('OLSExtend001.csv')"
     ],
     "language": "python",
     "metadata": {},
     "outputs": []
    },
    {
     "cell_type": "code",
     "collapsed": false,
     "input": [
      "test_data.YearMade.value_counts()\n"
     ],
     "language": "python",
     "metadata": {},
     "outputs": []
    },
    {
     "cell_type": "code",
     "collapsed": false,
     "input": [
      "float(1637)/float(test_data.YearMade.size)"
     ],
     "language": "python",
     "metadata": {},
     "outputs": []
    },
    {
     "cell_type": "code",
     "collapsed": false,
     "input": [
      "agc.score_rmsle('SalePrice',xt,valsol)"
     ],
     "language": "python",
     "metadata": {},
     "outputs": []
    },
    {
     "cell_type": "code",
     "collapsed": false,
     "input": [
      "agc.score_rmse('SalePrice',xt,valsol)"
     ],
     "language": "python",
     "metadata": {},
     "outputs": []
    },
    {
     "cell_type": "code",
     "collapsed": false,
     "input": [
      "show my two versions perfomance, how one was compensated for over fitting\n",
      "show winners final place\n",
      "show random forest soultion and that final place"
     ],
     "language": "python",
     "metadata": {},
     "outputs": []
    }
   ],
   "metadata": {}
  }
 ]
}